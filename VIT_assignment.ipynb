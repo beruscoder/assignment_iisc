{
  "nbformat": 4,
  "nbformat_minor": 0,
  "metadata": {
    "colab": {
      "provenance": [],
      "gpuType": "T4",
      "authorship_tag": "ABX9TyPhjzTWO+iIbj0yGtPyK6es",
      "include_colab_link": true
    },
    "kernelspec": {
      "name": "python3",
      "display_name": "Python 3"
    },
    "language_info": {
      "name": "python"
    },
    "accelerator": "GPU"
  },
  "cells": [
    {
      "cell_type": "markdown",
      "metadata": {
        "id": "view-in-github",
        "colab_type": "text"
      },
      "source": [
        "<a href=\"https://colab.research.google.com/github/beruscoder/assignment_iisc/blob/main/VIT_assignment.ipynb\" target=\"_parent\"><img src=\"https://colab.research.google.com/assets/colab-badge.svg\" alt=\"Open In Colab\"/></a>"
      ]
    },
    {
      "cell_type": "code",
      "execution_count": null,
      "metadata": {
        "id": "S_QHXY9D6dG4"
      },
      "outputs": [],
      "source": [
        "import torch\n",
        "import torch.nn as nn\n",
        "import torch.nn.functional as F\n",
        "import torchvision\n",
        "import torchvision.transforms as transforms\n",
        "from torch.utils.data import DataLoader\n",
        "import matplotlib.pyplot as plt\n",
        "\n",
        "device = \"cuda\" if torch.cuda.is_available() else \"cpu\""
      ]
    },
    {
      "cell_type": "code",
      "source": [
        "mean, std = [0.4914, 0.4822, 0.4465], [0.247, 0.243, 0.261]\n",
        "IMAGE_SIZE = 32\n",
        "BATCH_SIZE = 128\n",
        "\n",
        "train_transform = transforms.Compose([\n",
        "    transforms.Resize((IMAGE_SIZE, IMAGE_SIZE)),\n",
        "    transforms.RandomCrop(IMAGE_SIZE, padding=4),\n",
        "    transforms.RandomHorizontalFlip(),\n",
        "    transforms.ColorJitter(0.2, 0.2, 0.2, 0.1),\n",
        "    transforms.RandomRotation(15),\n",
        "    transforms.ToTensor(),\n",
        "    transforms.Normalize(mean, std)\n",
        "])\n",
        "\n",
        "test_transform = transforms.Compose([\n",
        "    transforms.Resize((IMAGE_SIZE, IMAGE_SIZE)),\n",
        "    transforms.ToTensor(),\n",
        "    transforms.Normalize(mean, std)\n",
        "])\n",
        "\n",
        "trainset = torchvision.datasets.CIFAR10(root=\"./data\", train=True, download=True, transform=train_transform)\n",
        "testset = torchvision.datasets.CIFAR10(root=\"./data\", train=False, download=True, transform=test_transform)\n",
        "\n",
        "trainloader = DataLoader(trainset, batch_size=BATCH_SIZE, shuffle=True, num_workers=2)\n",
        "testloader = DataLoader(testset, batch_size=BATCH_SIZE, shuffle=False, num_workers=2)"
      ],
      "metadata": {
        "id": "R36sCr2NF8Zo"
      },
      "execution_count": null,
      "outputs": []
    },
    {
      "cell_type": "code",
      "source": [
        "import matplotlib.pyplot as plt\n",
        "import torchvision\n",
        "import torchvision.transforms as transforms\n",
        "import torch\n",
        "\n",
        "# -----------------------------\n",
        "# Original image transform (no augmentation)\n",
        "# -----------------------------\n",
        "original_transform = transforms.ToTensor()\n",
        "\n",
        "# Load CIFAR-10 train dataset\n",
        "train_original = torchvision.datasets.CIFAR10(root='./data', train=True, download=True, transform=original_transform)\n",
        "\n",
        "# Load CIFAR-10 train dataset with augmentation\n",
        "train_augmented = torchvision.datasets.CIFAR10(root='./data', train=True, download=True, transform=train_transform)\n",
        "\n",
        "\n",
        "# Function to display image\n",
        "def imshow(img_tensor, ax):\n",
        "    img = img_tensor.permute(1,2,0).numpy()  # convert [C,H,W] -> [H,W,C]\n",
        "    # Clip image values to be between 0 and 1 for proper display\n",
        "    img = img.clip(0, 1)\n",
        "    ax.imshow(img)\n",
        "    ax.axis('off')\n",
        "\n",
        "# -----------------------------\n",
        "# Pick 5 random images\n",
        "# -----------------------------\n",
        "num_images = 5\n",
        "random_indices = torch.randint(0, len(train_original), (num_images,))\n",
        "\n",
        "# Display original and augmented images in a 2x5 grid\n",
        "fig, axes = plt.subplots(2, num_images, figsize=(15, 6))\n",
        "for i, idx in enumerate(random_indices):\n",
        "    # Original image\n",
        "    img_original, label = train_original[idx.item()]\n",
        "    imshow(img_original, axes[0, i])\n",
        "    axes[0, i].set_title(f\"Original\\n{train_original.classes[label]}\")\n",
        "\n",
        "    # Augmented image\n",
        "    img_augmented, _ = train_augmented[idx.item()] # Use the same index for augmented image\n",
        "    imshow(img_augmented, axes[1, i])\n",
        "    axes[1, i].set_title(f\"Augmented\\n{train_augmented.classes[label]}\")\n",
        "\n",
        "plt.tight_layout()\n",
        "plt.show()"
      ],
      "metadata": {
        "colab": {
          "base_uri": "https://localhost:8080/",
          "height": 477
        },
        "id": "-mau56PZHBZy",
        "outputId": "0dd4e89b-d6e5-4cfb-cc86-fdea0f026ede"
      },
      "execution_count": null,
      "outputs": [
        {
          "output_type": "display_data",
          "data": {
            "text/plain": [
              "<Figure size 1500x600 with 10 Axes>"
            ],
            "image/png": "[encoded data removed]"
          },
          "metadata": {}
        }
      ]
    },
    {
      "cell_type": "code",
      "source": [
        "class HybridEmbed(nn.Module):\n",
        "    def __init__(self, in_ch=3, embed_dim=256):\n",
        "        super().__init__()\n",
        "        self.cnn = nn.Sequential(\n",
        "            nn.Conv2d(in_ch, 64, kernel_size=3, stride=1, padding=1), nn.ReLU(),\n",
        "            nn.Conv2d(64, 128, kernel_size=3, stride=1, padding=1), nn.ReLU(),\n",
        "            nn.MaxPool2d(2),  # [B,128,16,16]\n",
        "        )\n",
        "        self.proj = nn.Conv2d(128, embed_dim, kernel_size=4, stride=4)  # → [B,embed_dim,4,4]\n",
        "\n",
        "    def forward(self, x):\n",
        "        x = self.cnn(x)\n",
        "        x = self.proj(x)  # [B, embed_dim, H/4, W/4]\n",
        "        B, C, H, W = x.shape\n",
        "        x = x.flatten(2).transpose(1, 2)  # [B, N, C]\n",
        "        return x"
      ],
      "metadata": {
        "id": "9XdaW_dyGAOv"
      },
      "execution_count": null,
      "outputs": []
    },
    {
      "cell_type": "code",
      "source": [
        "class ClassAttentionBlock(nn.Module):\n",
        "    def __init__(self, dim, num_heads=8, mlp_ratio=4.0, drop=0., attn_drop=0.):\n",
        "        super().__init__()\n",
        "        self.norm1 = nn.LayerNorm(dim)\n",
        "        self.attn = nn.MultiheadAttention(dim, num_heads, dropout=attn_drop, batch_first=True)\n",
        "        self.norm2 = nn.LayerNorm(dim)\n",
        "        self.mlp = nn.Sequential(\n",
        "            nn.Linear(dim, int(dim * mlp_ratio)),\n",
        "            nn.GELU(),\n",
        "            nn.Dropout(drop),\n",
        "            nn.Linear(int(dim * mlp_ratio), dim),\n",
        "            nn.Dropout(drop)\n",
        "        )\n",
        "\n",
        "    def forward(self, x):\n",
        "        cls, patches = x[:, 0:1], x[:, 1:]\n",
        "        cls_updated, _ = self.attn(self.norm1(cls), self.norm1(patches), self.norm1(patches))\n",
        "        cls = cls + cls_updated\n",
        "        cls = cls + self.mlp(self.norm2(cls))\n",
        "        return torch.cat([cls, patches], dim=1)"
      ],
      "metadata": {
        "id": "jF0YxrxJGGE3"
      },
      "execution_count": null,
      "outputs": []
    },
    {
      "cell_type": "code",
      "source": [
        "class HybridViT(nn.Module):\n",
        "    def __init__(self, img_size=32, embed_dim=256, depth=6, num_heads=8, num_classes=10):\n",
        "        super().__init__()\n",
        "        self.patch_embed = HybridEmbed(in_ch=3, embed_dim=embed_dim)\n",
        "\n",
        "        self.cls_token = nn.Parameter(torch.zeros(1, 1, embed_dim))\n",
        "        self.pos_embed = nn.Parameter(torch.zeros(1, (img_size//8)*(img_size//8)+1, embed_dim))  # depends on patch count\n",
        "        self.pos_drop = nn.Dropout(0.1)\n",
        "\n",
        "        encoder_layer = nn.TransformerEncoderLayer(d_model=embed_dim, nhead=num_heads, batch_first=True)\n",
        "        self.transformer = nn.TransformerEncoder(encoder_layer, num_layers=depth)\n",
        "\n",
        "        # CLS refinement\n",
        "        self.cls_refine_blocks = nn.ModuleList([ClassAttentionBlock(embed_dim, num_heads=num_heads) for _ in range(2)])\n",
        "\n",
        "        self.norm = nn.LayerNorm(embed_dim)\n",
        "        self.head = nn.Linear(embed_dim, num_classes)\n",
        "\n",
        "    def forward(self, x):\n",
        "        B = x.shape[0]\n",
        "        x = self.patch_embed(x)  # [B,N,C]\n",
        "\n",
        "        cls_tokens = self.cls_token.expand(B, -1, -1)\n",
        "        x = torch.cat((cls_tokens, x), dim=1)\n",
        "        x = x + self.pos_embed\n",
        "        x = self.pos_drop(x)\n",
        "\n",
        "        x = self.transformer(x)\n",
        "\n",
        "        for blk in self.cls_refine_blocks:\n",
        "            x = blk(x)\n",
        "\n",
        "        cls_token_final = self.norm(x[:, 0])\n",
        "        out = self.head(cls_token_final)\n",
        "        return out"
      ],
      "metadata": {
        "id": "7QyTSFIoGKTm"
      },
      "execution_count": null,
      "outputs": []
    },
    {
      "cell_type": "code",
      "source": [
        "def train_model(model, trainloader, testloader, epochs=50, lr=3e-4):\n",
        "    criterion = nn.CrossEntropyLoss(label_smoothing=0.1)\n",
        "    optimizer = torch.optim.AdamW(model.parameters(), lr=lr, weight_decay=1e-4)\n",
        "    scheduler = torch.optim.lr_scheduler.CosineAnnealingLR(optimizer, T_max=epochs)\n",
        "\n",
        "    for epoch in range(1, epochs+1):\n",
        "        model.train()\n",
        "        correct, total, train_loss = 0, 0, 0\n",
        "        for imgs, labels in trainloader:\n",
        "            imgs, labels = imgs.to(device), labels.to(device)\n",
        "            optimizer.zero_grad()\n",
        "            outputs = model(imgs)\n",
        "            loss = criterion(outputs, labels)\n",
        "            loss.backward()\n",
        "            optimizer.step()\n",
        "\n",
        "            train_loss += loss.item()\n",
        "            _, preds = outputs.max(1)\n",
        "            total += labels.size(0)\n",
        "            correct += preds.eq(labels).sum().item()\n",
        "\n",
        "        train_acc = 100 * correct / total\n",
        "\n",
        "        # Test\n",
        "        model.eval()\n",
        "        correct, total = 0, 0\n",
        "        with torch.no_grad():\n",
        "            for imgs, labels in testloader:\n",
        "                imgs, labels = imgs.to(device), labels.to(device)\n",
        "                outputs = model(imgs)\n",
        "                _, preds = outputs.max(1)\n",
        "                total += labels.size(0)\n",
        "                correct += preds.eq(labels).sum().item()\n",
        "        test_acc = 100 * correct / total\n",
        "\n",
        "        print(f\"Epoch {epoch}/{epochs} - Train Acc: {train_acc:.2f}% | Test Acc: {test_acc:.2f}% | LR: {scheduler.get_last_lr()[0]:.6f}\")\n",
        "        scheduler.step()\n",
        "\n",
        "    return model\n",
        "\n",
        "# -----------------------------\n",
        "# Run Training\n",
        "# -----------------------------\n",
        "model = HybridViT().to(device)\n",
        "trained_model = train_model(model, trainloader, testloader, epochs=50, lr=3e-4)"
      ],
      "metadata": {
        "colab": {
          "base_uri": "https://localhost:8080/"
        },
        "id": "642R8hYQGTyn",
        "outputId": "979cd2c4-0c18-4265-9b51-adf43f5999df"
      },
      "execution_count": null,
      "outputs": [
        {
          "output_type": "stream",
          "name": "stdout",
          "text": [
            "Epoch 1/50 - Train Acc: 21.69% | Test Acc: 25.69% | LR: 0.000300\n",
            "Epoch 2/50 - Train Acc: 34.39% | Test Acc: 43.96% | LR: 0.000300\n",
            "Epoch 3/50 - Train Acc: 44.95% | Test Acc: 52.59% | LR: 0.000299\n",
            "Epoch 4/50 - Train Acc: 53.48% | Test Acc: 58.28% | LR: 0.000297\n",
            "Epoch 5/50 - Train Acc: 57.32% | Test Acc: 61.80% | LR: 0.000295\n",
            "Epoch 6/50 - Train Acc: 60.89% | Test Acc: 65.32% | LR: 0.000293\n",
            "Epoch 7/50 - Train Acc: 63.40% | Test Acc: 67.52% | LR: 0.000289\n",
            "Epoch 8/50 - Train Acc: 65.24% | Test Acc: 70.96% | LR: 0.000286\n",
            "Epoch 9/50 - Train Acc: 67.11% | Test Acc: 71.20% | LR: 0.000281\n",
            "Epoch 10/50 - Train Acc: 68.60% | Test Acc: 71.56% | LR: 0.000277\n",
            "Epoch 11/50 - Train Acc: 69.49% | Test Acc: 71.68% | LR: 0.000271\n",
            "Epoch 12/50 - Train Acc: 71.32% | Test Acc: 75.55% | LR: 0.000266\n",
            "Epoch 13/50 - Train Acc: 72.14% | Test Acc: 74.88% | LR: 0.000259\n",
            "Epoch 14/50 - Train Acc: 73.23% | Test Acc: 76.16% | LR: 0.000253\n",
            "Epoch 15/50 - Train Acc: 74.11% | Test Acc: 76.60% | LR: 0.000246\n",
            "Epoch 16/50 - Train Acc: 75.20% | Test Acc: 77.24% | LR: 0.000238\n",
            "Epoch 17/50 - Train Acc: 75.57% | Test Acc: 77.74% | LR: 0.000230\n",
            "Epoch 18/50 - Train Acc: 76.65% | Test Acc: 79.49% | LR: 0.000222\n",
            "Epoch 19/50 - Train Acc: 76.77% | Test Acc: 79.33% | LR: 0.000214\n",
            "Epoch 20/50 - Train Acc: 77.63% | Test Acc: 80.44% | LR: 0.000205\n",
            "Epoch 21/50 - Train Acc: 78.69% | Test Acc: 79.95% | LR: 0.000196\n",
            "Epoch 22/50 - Train Acc: 78.95% | Test Acc: 80.66% | LR: 0.000187\n",
            "Epoch 23/50 - Train Acc: 79.85% | Test Acc: 81.17% | LR: 0.000178\n",
            "Epoch 24/50 - Train Acc: 80.48% | Test Acc: 81.08% | LR: 0.000169\n",
            "Epoch 25/50 - Train Acc: 80.81% | Test Acc: 82.09% | LR: 0.000159\n",
            "Epoch 26/50 - Train Acc: 81.72% | Test Acc: 81.97% | LR: 0.000150\n",
            "Epoch 27/50 - Train Acc: 82.23% | Test Acc: 83.00% | LR: 0.000141\n",
            "Epoch 28/50 - Train Acc: 82.77% | Test Acc: 82.78% | LR: 0.000131\n",
            "Epoch 29/50 - Train Acc: 83.39% | Test Acc: 83.18% | LR: 0.000122\n",
            "Epoch 30/50 - Train Acc: 83.89% | Test Acc: 83.67% | LR: 0.000113\n",
            "Epoch 31/50 - Train Acc: 84.31% | Test Acc: 83.90% | LR: 0.000104\n",
            "Epoch 32/50 - Train Acc: 84.85% | Test Acc: 84.04% | LR: 0.000095\n",
            "Epoch 33/50 - Train Acc: 85.36% | Test Acc: 84.14% | LR: 0.000086\n",
            "Epoch 34/50 - Train Acc: 85.85% | Test Acc: 84.11% | LR: 0.000078\n",
            "Epoch 35/50 - Train Acc: 86.52% | Test Acc: 84.05% | LR: 0.000070\n",
            "Epoch 36/50 - Train Acc: 86.99% | Test Acc: 84.82% | LR: 0.000062\n",
            "Epoch 37/50 - Train Acc: 87.20% | Test Acc: 84.82% | LR: 0.000054\n",
            "Epoch 38/50 - Train Acc: 87.82% | Test Acc: 84.77% | LR: 0.000047\n",
            "Epoch 39/50 - Train Acc: 88.13% | Test Acc: 84.59% | LR: 0.000041\n",
            "Epoch 40/50 - Train Acc: 88.56% | Test Acc: 84.86% | LR: 0.000034\n",
            "Epoch 41/50 - Train Acc: 88.88% | Test Acc: 85.31% | LR: 0.000029\n",
            "Epoch 42/50 - Train Acc: 88.89% | Test Acc: 85.05% | LR: 0.000023\n",
            "Epoch 43/50 - Train Acc: 89.30% | Test Acc: 85.27% | LR: 0.000019\n",
            "Epoch 44/50 - Train Acc: 89.50% | Test Acc: 85.40% | LR: 0.000014\n",
            "Epoch 45/50 - Train Acc: 89.53% | Test Acc: 85.45% | LR: 0.000011\n",
            "Epoch 46/50 - Train Acc: 89.72% | Test Acc: 85.30% | LR: 0.000007\n",
            "Epoch 47/50 - Train Acc: 89.90% | Test Acc: 85.25% | LR: 0.000005\n",
            "Epoch 48/50 - Train Acc: 89.93% | Test Acc: 85.26% | LR: 0.000003\n",
            "Epoch 49/50 - Train Acc: 90.17% | Test Acc: 85.35% | LR: 0.000001\n",
            "Epoch 50/50 - Train Acc: 89.90% | Test Acc: 85.36% | LR: 0.000000\n"
          ]
        }
      ]
    }
  ]
}